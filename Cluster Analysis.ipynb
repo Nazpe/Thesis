{
 "cells": [
  {
   "cell_type": "code",
   "execution_count": 1,
   "metadata": {},
   "outputs": [],
   "source": [
    "import numpy as np\n",
    "import pandas as pd\n",
    "\n",
    "import seaborn as sns\n",
    "import matplotlib.cm as cm\n",
    "import matplotlib\n",
    "import matplotlib.pyplot as plt\n",
    "from matplotlib.colors import Normalize\n",
    "import matplotlib.patches as mpatches\n",
    "\n",
    "from sklearn.cluster import KMeans\n",
    "from yellowbrick.cluster import KElbowVisualizer\n",
    "from sklearn.decomposition import PCA\n",
    "\n",
    "from scipy.cluster.hierarchy import fcluster\n",
    "import scipy.cluster.hierarchy as sch\n",
    "\n",
    "from imblearn.over_sampling import ADASYN\n",
    "from imblearn.over_sampling import SMOTE\n",
    "\n",
    "from collections import Counter"
   ]
  },
  {
   "attachments": {},
   "cell_type": "markdown",
   "metadata": {},
   "source": [
    "# Dendrogram analysis"
   ]
  },
  {
   "cell_type": "code",
   "execution_count": 27,
   "metadata": {},
   "outputs": [],
   "source": [
    "Data = pd.read_csv('NEW_TRAIN_SEPERABLE_ALL.csv')"
   ]
  },
  {
   "cell_type": "code",
   "execution_count": 23,
   "metadata": {},
   "outputs": [],
   "source": [
    "Data = pd.read_csv('Data/Pneumonia_Data_48h/24h-48h/For Clustering/TRAIN_24h-48h_Mortality_SS_C_important_features.csv')\n",
    "Class = np.load('Data/Pneumonia_Data_48h/24h-48h/For Clustering/TRAIN_24h-48h_Mortality_SS_C_class.npy')\n",
    "Data_test = pd.read_csv('Data/Pneumonia_Data_48h/24h-48h/For Clustering/TEST_24h-48h_Mortality_SS_C_important_features.csv')\n",
    "Class_test = np.load('Data/Pneumonia_Data_48h/24h-48h/For Clustering/TEST_24h-48h_Mortality_SS_C_class.npy')"
   ]
  },
  {
   "cell_type": "code",
   "execution_count": 14,
   "metadata": {},
   "outputs": [
    {
     "data": {
      "text/html": [
       "<div>\n",
       "<style scoped>\n",
       "    .dataframe tbody tr th:only-of-type {\n",
       "        vertical-align: middle;\n",
       "    }\n",
       "\n",
       "    .dataframe tbody tr th {\n",
       "        vertical-align: top;\n",
       "    }\n",
       "\n",
       "    .dataframe thead th {\n",
       "        text-align: right;\n",
       "    }\n",
       "</style>\n",
       "<table border=\"1\" class=\"dataframe\">\n",
       "  <thead>\n",
       "    <tr style=\"text-align: right;\">\n",
       "      <th></th>\n",
       "      <th>Age</th>\n",
       "      <th>HeartRate</th>\n",
       "      <th>TAD</th>\n",
       "      <th>Lactate</th>\n",
       "      <th>PaCO2</th>\n",
       "      <th>metHb</th>\n",
       "      <th>BE</th>\n",
       "      <th>AST/TGO</th>\n",
       "      <th>DHL</th>\n",
       "      <th>AlkalinePhosph</th>\n",
       "      <th>GGT</th>\n",
       "      <th>Lymphocytes</th>\n",
       "      <th>Platelets</th>\n",
       "      <th>Urea</th>\n",
       "      <th>Glasgow</th>\n",
       "      <th>Pneumothorax</th>\n",
       "      <th>MultiorganD</th>\n",
       "      <th>PolyneuroMyopathy</th>\n",
       "      <th>Shock</th>\n",
       "      <th>NIVUD</th>\n",
       "    </tr>\n",
       "  </thead>\n",
       "  <tbody>\n",
       "    <tr>\n",
       "      <th>0</th>\n",
       "      <td>0.302783</td>\n",
       "      <td>-2.005568</td>\n",
       "      <td>-0.396855</td>\n",
       "      <td>-1.411539</td>\n",
       "      <td>2.039575</td>\n",
       "      <td>0.195661</td>\n",
       "      <td>-0.531748</td>\n",
       "      <td>-0.115509</td>\n",
       "      <td>-0.025627</td>\n",
       "      <td>-0.734278</td>\n",
       "      <td>-0.351211</td>\n",
       "      <td>2.852507</td>\n",
       "      <td>-0.178436</td>\n",
       "      <td>-0.084101</td>\n",
       "      <td>-0.946983</td>\n",
       "      <td>-0.165517</td>\n",
       "      <td>-0.176867</td>\n",
       "      <td>-0.204514</td>\n",
       "      <td>-0.424289</td>\n",
       "      <td>2.027421</td>\n",
       "    </tr>\n",
       "    <tr>\n",
       "      <th>1</th>\n",
       "      <td>-0.551803</td>\n",
       "      <td>0.693729</td>\n",
       "      <td>-1.548723</td>\n",
       "      <td>-0.640334</td>\n",
       "      <td>-0.252980</td>\n",
       "      <td>0.509726</td>\n",
       "      <td>-0.166020</td>\n",
       "      <td>-0.239192</td>\n",
       "      <td>0.262232</td>\n",
       "      <td>-0.610650</td>\n",
       "      <td>-0.720623</td>\n",
       "      <td>-1.334050</td>\n",
       "      <td>-1.390022</td>\n",
       "      <td>1.561824</td>\n",
       "      <td>0.480794</td>\n",
       "      <td>-0.165517</td>\n",
       "      <td>-0.176867</td>\n",
       "      <td>-0.204514</td>\n",
       "      <td>-0.424289</td>\n",
       "      <td>-0.493237</td>\n",
       "    </tr>\n",
       "    <tr>\n",
       "      <th>2</th>\n",
       "      <td>-0.257524</td>\n",
       "      <td>-0.214350</td>\n",
       "      <td>-0.627551</td>\n",
       "      <td>0.196574</td>\n",
       "      <td>-0.735469</td>\n",
       "      <td>0.445454</td>\n",
       "      <td>0.391556</td>\n",
       "      <td>-0.499841</td>\n",
       "      <td>0.049247</td>\n",
       "      <td>0.222635</td>\n",
       "      <td>-0.051309</td>\n",
       "      <td>0.534633</td>\n",
       "      <td>0.400938</td>\n",
       "      <td>0.392627</td>\n",
       "      <td>-0.946983</td>\n",
       "      <td>-0.165517</td>\n",
       "      <td>-0.176867</td>\n",
       "      <td>-0.204514</td>\n",
       "      <td>-0.424289</td>\n",
       "      <td>-0.493237</td>\n",
       "    </tr>\n",
       "    <tr>\n",
       "      <th>3</th>\n",
       "      <td>-2.136010</td>\n",
       "      <td>0.189980</td>\n",
       "      <td>-0.627551</td>\n",
       "      <td>0.196574</td>\n",
       "      <td>0.439768</td>\n",
       "      <td>-0.070718</td>\n",
       "      <td>0.931741</td>\n",
       "      <td>1.518986</td>\n",
       "      <td>1.467536</td>\n",
       "      <td>0.385894</td>\n",
       "      <td>0.415106</td>\n",
       "      <td>0.172422</td>\n",
       "      <td>-1.907574</td>\n",
       "      <td>1.140562</td>\n",
       "      <td>1.453192</td>\n",
       "      <td>-0.165517</td>\n",
       "      <td>-0.176867</td>\n",
       "      <td>-0.204514</td>\n",
       "      <td>-0.424289</td>\n",
       "      <td>-0.493237</td>\n",
       "    </tr>\n",
       "    <tr>\n",
       "      <th>4</th>\n",
       "      <td>-2.136010</td>\n",
       "      <td>-0.430734</td>\n",
       "      <td>-0.706206</td>\n",
       "      <td>1.101081</td>\n",
       "      <td>-0.811062</td>\n",
       "      <td>0.198899</td>\n",
       "      <td>-0.956473</td>\n",
       "      <td>-0.230956</td>\n",
       "      <td>-0.651393</td>\n",
       "      <td>-0.912344</td>\n",
       "      <td>0.236773</td>\n",
       "      <td>1.111138</td>\n",
       "      <td>-1.075785</td>\n",
       "      <td>0.476282</td>\n",
       "      <td>-0.946983</td>\n",
       "      <td>-0.165517</td>\n",
       "      <td>-0.176867</td>\n",
       "      <td>-0.204514</td>\n",
       "      <td>2.356885</td>\n",
       "      <td>-0.493237</td>\n",
       "    </tr>\n",
       "  </tbody>\n",
       "</table>\n",
       "</div>"
      ],
      "text/plain": [
       "        Age  HeartRate       TAD   Lactate     PaCO2     metHb        BE  \\\n",
       "0  0.302783  -2.005568 -0.396855 -1.411539  2.039575  0.195661 -0.531748   \n",
       "1 -0.551803   0.693729 -1.548723 -0.640334 -0.252980  0.509726 -0.166020   \n",
       "2 -0.257524  -0.214350 -0.627551  0.196574 -0.735469  0.445454  0.391556   \n",
       "3 -2.136010   0.189980 -0.627551  0.196574  0.439768 -0.070718  0.931741   \n",
       "4 -2.136010  -0.430734 -0.706206  1.101081 -0.811062  0.198899 -0.956473   \n",
       "\n",
       "    AST/TGO       DHL  AlkalinePhosph       GGT  Lymphocytes  Platelets  \\\n",
       "0 -0.115509 -0.025627       -0.734278 -0.351211     2.852507  -0.178436   \n",
       "1 -0.239192  0.262232       -0.610650 -0.720623    -1.334050  -1.390022   \n",
       "2 -0.499841  0.049247        0.222635 -0.051309     0.534633   0.400938   \n",
       "3  1.518986  1.467536        0.385894  0.415106     0.172422  -1.907574   \n",
       "4 -0.230956 -0.651393       -0.912344  0.236773     1.111138  -1.075785   \n",
       "\n",
       "       Urea   Glasgow  Pneumothorax  MultiorganD  PolyneuroMyopathy     Shock  \\\n",
       "0 -0.084101 -0.946983     -0.165517    -0.176867          -0.204514 -0.424289   \n",
       "1  1.561824  0.480794     -0.165517    -0.176867          -0.204514 -0.424289   \n",
       "2  0.392627 -0.946983     -0.165517    -0.176867          -0.204514 -0.424289   \n",
       "3  1.140562  1.453192     -0.165517    -0.176867          -0.204514 -0.424289   \n",
       "4  0.476282 -0.946983     -0.165517    -0.176867          -0.204514  2.356885   \n",
       "\n",
       "      NIVUD  \n",
       "0  2.027421  \n",
       "1 -0.493237  \n",
       "2 -0.493237  \n",
       "3 -0.493237  \n",
       "4 -0.493237  "
      ]
     },
     "execution_count": 14,
     "metadata": {},
     "output_type": "execute_result"
    }
   ],
   "source": [
    "Data.head()"
   ]
  },
  {
   "cell_type": "code",
   "execution_count": 28,
   "metadata": {},
   "outputs": [],
   "source": [
    "# Dendrogram analysis via the ward distance and the euclidean metric\n",
    "\n",
    "import scipy.cluster.hierarchy as sch\n",
    "\n",
    "Z= sch.linkage(Data, method= 'ward', metric = 'euclidean')\n"
   ]
  },
  {
   "cell_type": "code",
   "execution_count": 29,
   "metadata": {},
   "outputs": [],
   "source": [
    "# silhouette method to analyse how good the clustering was\n",
    "\n",
    "from sklearn.metrics import silhouette_score\n",
    "\n",
    "def sil_scores(X, Z, ts):\n",
    "    '''\n",
    "    Creates a list of silhouette scores for a predetermined range of clusters.\n",
    "    '''\n",
    "    scores = []\n",
    "    \n",
    "    for num_clust in ts:\n",
    "        scores.append(silhouette_score(X, fcluster(Z, t=num_clust, criterion='maxclust')))\n",
    "    \n",
    "    return scores\n",
    "\n",
    "scores = sil_scores(Data, Z, range(2,16))"
   ]
  },
  {
   "cell_type": "code",
   "execution_count": 30,
   "metadata": {},
   "outputs": [
    {
     "data": {
      "image/png": "[encoded data removed]",
      "text/plain": [
       "<Figure size 576x360 with 1 Axes>"
      ]
     },
     "metadata": {},
     "output_type": "display_data"
    }
   ],
   "source": [
    "sns.set(rc={\"figure.figsize\":(20, 9)})\n",
    "\n",
    "#l1 elasticnet l2 performance\n",
    "silhouete_scores_Df = pd.DataFrame({'Cluster Numbers':[n for n in range(2,16)],'Scores':scores})\n",
    "\n",
    "sns.set(rc={\"figure.figsize\":(8, 5)})\n",
    "sns.lineplot(data = silhouete_scores_Df, x = 'Cluster Numbers', y = 'Scores')\n",
    "plt.xlabel('Cluster Numbers', fontsize=23)\n",
    "plt.ylabel('Scores', fontsize=23)\n",
    "plt.xticks(fontsize=20)\n",
    "plt.yticks(fontsize=20)\n",
    "plt.ylim(0, 0.375)\n",
    "\n",
    "plt.tight_layout()\n",
    "plt.savefig('Scores for diferent Cluster Numbers')\n",
    "plt.show()"
   ]
  },
  {
   "cell_type": "code",
   "execution_count": 18,
   "metadata": {},
   "outputs": [
    {
     "name": "stdout",
     "output_type": "stream",
     "text": [
      "2\n",
      "0.16587546985203533\n"
     ]
    }
   ],
   "source": [
    "# Get best number of clusters\n",
    "\n",
    "scores_clustrs_list = list(zip(range(2,16), scores))\n",
    "\n",
    "t_before = scores_clustrs_list[0][0]\n",
    "s_before = scores_clustrs_list[0][1]\n",
    "\n",
    "for t, s in scores_clustrs_list:\n",
    "    if s > s_before:\n",
    "        t_before = t\n",
    "        s_before = s\n",
    "\n",
    "print(t_before)\n",
    "print(s_before)\n",
    "\n",
    "# k is the best number of clusters\n",
    "k = t_before"
   ]
  },
  {
   "cell_type": "code",
   "execution_count": 19,
   "metadata": {},
   "outputs": [
    {
     "name": "stdout",
     "output_type": "stream",
     "text": [
      "0.11216390086363023\n"
     ]
    }
   ],
   "source": [
    "# Although the best was 2 according to the silhouette score, 5 doesn't have a very different silhouette score and permits to get\n",
    "# more cluster and more populations to analyse\n",
    "\n",
    "k = 5\n",
    "print(scores[3])"
   ]
  },
  {
   "cell_type": "code",
   "execution_count": 20,
   "metadata": {},
   "outputs": [
    {
     "name": "stdout",
     "output_type": "stream",
     "text": [
      "[4 5 5 ... 5 4 5]\n"
     ]
    }
   ],
   "source": [
    "# Separate the data to each cluster\n",
    "\n",
    "from scipy.cluster.hierarchy import fcluster\n",
    "\n",
    "groups = fcluster(Z, t=k, criterion='maxclust')\n",
    "\n",
    "print(groups)"
   ]
  },
  {
   "cell_type": "code",
   "execution_count": 21,
   "metadata": {},
   "outputs": [
    {
     "data": {
      "image/png": "[encoded data removed]",
      "text/plain": [
       "<Figure size 576x360 with 1 Axes>"
      ]
     },
     "metadata": {},
     "output_type": "display_data"
    }
   ],
   "source": [
    "n= len(Data)\n",
    "\n",
    "# calculate labels\n",
    "labels=list('' for i in range(n))\n",
    "for i in range(n):\n",
    "    labels[i]=str(i)+ ',' + str(groups[i])\n",
    "\n",
    "# calculate color threshold\n",
    "ct=Z[-(k-1),2]  \n",
    "\n",
    "#plot\n",
    "P =sch.dendrogram(Z,labels=labels,color_threshold=ct)\n",
    "\n",
    "#plt.savefig('dendrogram clusters.png', format='png', bbox_inches='tight')\n",
    "\n",
    "plt.show()"
   ]
  },
  {
   "cell_type": "code",
   "execution_count": null,
   "metadata": {},
   "outputs": [
    {
     "data": {
      "text/plain": [
       "{4: 358, 5: 1062, 3: 294, 1: 69, 2: 45}"
      ]
     },
     "execution_count": 13,
     "metadata": {},
     "output_type": "execute_result"
    }
   ],
   "source": [
    "# Observations per cluster\n",
    "\n",
    "d = {}\n",
    "for n in groups:\n",
    "    if n not in d:\n",
    "        d[n] = 1\n",
    "    else:\n",
    "        d[n] = d[n] + 1\n",
    "\n",
    "d"
   ]
  },
  {
   "cell_type": "code",
   "execution_count": null,
   "metadata": {},
   "outputs": [],
   "source": [
    "Data_cluster_1 = pd.DataFrame(columns=Data.columns)\n",
    "Data_class_1 = []\n",
    "Data_cluster_2 = pd.DataFrame(columns=Data.columns)\n",
    "Data_class_2 = []\n",
    "Data_cluster_3 = pd.DataFrame(columns=Data.columns)\n",
    "Data_class_3 = []\n",
    "Data_cluster_4 = pd.DataFrame(columns=Data.columns)\n",
    "Data_class_4 = []\n",
    "Data_cluster_5 = pd.DataFrame(columns=Data.columns)\n",
    "Data_class_5 = []\n",
    "# ... can add more if needed\n",
    "\n",
    "id = 0\n",
    "\n",
    "for n in groups:\n",
    "    if n == 1:\n",
    "        Data_cluster_1.loc[len(Data_cluster_1)] = Data.loc[id].tolist()\n",
    "        Data_class_1.append(Class[id])\n",
    "        id = id + 1\n",
    "    elif n == 2:\n",
    "        Data_cluster_2.loc[len(Data_cluster_2)] = Data.loc[id].tolist()\n",
    "        Data_class_2.append(Class[id])\n",
    "        id = id + 1\n",
    "    elif n == 3:\n",
    "        Data_cluster_3.loc[len(Data_cluster_3)] = Data.loc[id].tolist()\n",
    "        Data_class_3.append(Class[id])\n",
    "        id = id + 1\n",
    "    elif n == 4:\n",
    "        Data_cluster_4.loc[len(Data_cluster_4)] = Data.loc[id].tolist()\n",
    "        Data_class_4.append(Class[id])\n",
    "        id = id + 1\n",
    "    elif n == 5:\n",
    "        Data_cluster_5.loc[len(Data_cluster_5)] = Data.loc[id].tolist()\n",
    "        Data_class_5.append(Class[id])\n",
    "        id = id + 1\n",
    "    # ... can add more if needed"
   ]
  },
  {
   "cell_type": "code",
   "execution_count": null,
   "metadata": {},
   "outputs": [],
   "source": [
    "Data_clusters_list = ['Data_cluster_' + str(n) for n in range(1,k+1)]"
   ]
  },
  {
   "cell_type": "code",
   "execution_count": null,
   "metadata": {},
   "outputs": [
    {
     "name": "stdout",
     "output_type": "stream",
     "text": [
      "cluster 1\n",
      "0.08695652173913043\n",
      "\n",
      "cluster 2\n",
      "0.35555555555555557\n",
      "\n",
      "cluster 3\n",
      "0.3843537414965986\n",
      "\n",
      "cluster 4\n",
      "0.1005586592178771\n",
      "\n",
      "cluster 5\n",
      "0.13653483992467044\n",
      "\n"
     ]
    }
   ],
   "source": [
    "# proportion of class 1 versus all variebles\n",
    "\n",
    "Data_clusters_list = [Data_cluster_1, Data_cluster_2, Data_cluster_3, Data_cluster_4, Data_cluster_5]\n",
    "Data_class_list = [[Data_class_1, 1], [Data_class_2, 2], [Data_class_3, 3], [Data_class_4, 4], [Data_class_5, 5]]\n",
    "No_Model_List = []\n",
    "# ... can add more if needed\n",
    "\n",
    "for n in range(0,k):\n",
    "\n",
    "    cluster_classes = Data_class_list[n][0]\n",
    "    cluster_number = Data_class_list[n][1]\n",
    "\n",
    "    print('cluster', cluster_number)\n",
    "\n",
    "    total1 = 0\n",
    "    for nclass in cluster_classes:\n",
    "        if nclass == 1:\n",
    "            total1 += 1\n",
    "\n",
    "    # If the proportion of mortality of a cluster is very very small, it's not worth it to turn it into a model\n",
    "    # If less than 5% is mortality, every test observation that will be assigned to that cluster will be considered as \n",
    "    # Non Mortality\n",
    "    if total1/len(cluster_classes)<=0.05:\n",
    "        print('No Model for this cluster')\n",
    "        No_Model_List.append(1)\n",
    "    else:\n",
    "        No_Model_List.append(0)\n",
    "\n",
    "    print(total1/len(cluster_classes))\n",
    "    print()"
   ]
  },
  {
   "cell_type": "code",
   "execution_count": null,
   "metadata": {},
   "outputs": [
    {
     "data": {
      "text/plain": [
       "[0, 0, 0, 0, 0]"
      ]
     },
     "execution_count": 17,
     "metadata": {},
     "output_type": "execute_result"
    }
   ],
   "source": [
    "No_Model_List"
   ]
  },
  {
   "cell_type": "code",
   "execution_count": null,
   "metadata": {},
   "outputs": [],
   "source": [
    "np.save('Data/Pneumonia_Data_48h/24h-48h/For Clustering/No_Model_List_24h-48h_Mortality_SS_C.npy', No_Model_List)\n",
    "\n",
    "if len(Data_class_1) > 1:\n",
    "    Data_cluster_1.to_csv('Data/Pneumonia_Data_48h/24h-48h/For Clustering/Cluster_1_24h-48h_Mortality_SS_C.csv', index=False)\n",
    "    np.save('Data/Pneumonia_Data_48h/24h-48h/For Clustering/Cluster_1_class_24h-48h_Mortality_SS_C.npy', Data_class_1)\n",
    "\n",
    "if len(Data_class_2) > 1:\n",
    "    Data_cluster_2.to_csv('Data/Pneumonia_Data_48h/24h-48h/For Clustering/Cluster_2_24h-48h_Mortality_SS_C.csv', index=False)\n",
    "    np.save('Data/Pneumonia_Data_48h/24h-48h/For Clustering/Cluster_2_class_24h-48h_Mortality_SS_C.npy', Data_class_2)\n",
    "\n",
    "if len(Data_class_3) > 1:\n",
    "    Data_cluster_3.to_csv('Data/Pneumonia_Data_48h/24h-48h/For Clustering/Cluster_3_24h-48h_Mortality_SS_C.csv', index=False)\n",
    "    np.save('Data/Pneumonia_Data_48h/24h-48h/For Clustering/Cluster_3_class_24h-48h_Mortality_SS_C.npy', Data_class_3)\n",
    "\n",
    "if len(Data_class_4) > 1:\n",
    "    Data_cluster_4.to_csv('Data/Pneumonia_Data_48h/24h-48h/For Clustering/Cluster_4_24h-48h_Mortality_SS_C.csv', index=False)\n",
    "    np.save('Data/Pneumonia_Data_48h/24h-48h/For Clustering/Cluster_4_class_24h-48h_Mortality_SS_C.npy', Data_class_4)\n",
    "\n",
    "if len(Data_class_5) > 1:\n",
    "    Data_cluster_5.to_csv('Data/Pneumonia_Data_48h/24h-48h/For Clustering/Cluster_5_24h-48h_Mortality_SS_C.csv', index=False)\n",
    "    np.save('Data/Pneumonia_Data_48h/24h-48h/For Clustering/Cluster_5_class_24h-48h_Mortality_SS_C.npy', Data_class_5)\n",
    "\n",
    "# ... can add more if needed"
   ]
  },
  {
   "attachments": {},
   "cell_type": "markdown",
   "metadata": {},
   "source": [
    "# ADASYN\n",
    "\n",
    "Applying Adasyn to each cluster"
   ]
  },
  {
   "cell_type": "code",
   "execution_count": null,
   "metadata": {},
   "outputs": [
    {
     "name": "stdout",
     "output_type": "stream",
     "text": [
      "cluster 1\n",
      "Counter({0.0: 63, 1.0: 6})\n",
      "Counter({0.0: 63, 1.0: 63})\n",
      "New size: 126\n",
      "\n",
      "cluster 2\n",
      "Counter({0.0: 29, 1.0: 16})\n",
      "Counter({1.0: 30, 0.0: 29})\n",
      "New size: 59\n",
      "\n",
      "cluster 3\n",
      "Counter({0.0: 181, 1.0: 113})\n",
      "Counter({0.0: 181, 1.0: 179})\n",
      "New size: 360\n",
      "\n",
      "cluster 4\n",
      "Counter({0.0: 322, 1.0: 36})\n",
      "Counter({0.0: 322, 1.0: 312})\n",
      "New size: 634\n",
      "\n",
      "cluster 5\n",
      "Counter({0.0: 917, 1.0: 145})\n",
      "Counter({1.0: 931, 0.0: 917})\n",
      "New size: 1848\n",
      "\n"
     ]
    }
   ],
   "source": [
    "ada = ADASYN(sampling_strategy='auto', random_state=0, n_neighbors = 5)\n",
    "smote = SMOTE()\n",
    "\n",
    "# This to save to csv and np the data and classes\n",
    "cluster_classes_oversample = []\n",
    "cluster_data_oversample = []\n",
    "\n",
    "for n in range(0,k):\n",
    "\n",
    "\n",
    "    cluster_classes = Data_class_list[n][0]\n",
    "    cluster_number = Data_class_list[n][1]\n",
    "    cluster_data = Data_clusters_list[n]\n",
    "\n",
    "    print('cluster', cluster_number)\n",
    "\n",
    "    print(Counter(cluster_classes))\n",
    "    if No_Model_List[n] == 1:\n",
    "        print('No Model, No OverSampling')\n",
    "        print()\n",
    "\n",
    "        cluster_data_oversample.append(cluster_data)\n",
    "        cluster_classes_oversample.append(cluster_classes)\n",
    "\n",
    "    else:\n",
    "        cluster_data, cluster_classes = ada.fit_resample(cluster_data, cluster_classes)\n",
    "        #X_resampled, y_resampled = smote.fit_resample(X_resampled, y_resampled)\n",
    "\n",
    "        print(Counter(cluster_classes))\n",
    "        print('New size:', len(cluster_classes))\n",
    "        print()\n",
    "\n",
    "        cluster_data_oversample.append(cluster_data)\n",
    "        cluster_classes_oversample.append(cluster_classes)\n"
   ]
  },
  {
   "cell_type": "code",
   "execution_count": null,
   "metadata": {},
   "outputs": [],
   "source": [
    "# Still needs to change\n",
    "\n",
    "if len(cluster_classes_oversample[0]) > 1:\n",
    "    cluster_data_oversample[0].to_csv('Data/Pneumonia_Data_48h/24h-48h/For Clustering/ADASYN_Cluster_1_24h-48h_Mortality_SS_C.csv', index=False)\n",
    "    np.save('Data/Pneumonia_Data_48h/24h-48h/For Clustering/ADASYN_Cluster_1_class_24h-48h_Mortality_SS_C.npy', cluster_classes_oversample[0])\n",
    "\n",
    "if len(cluster_classes_oversample[1]) > 1:\n",
    "    cluster_data_oversample[1].to_csv('Data/Pneumonia_Data_48h/24h-48h/For Clustering/ADASYN_Cluster_2_24h-48h_Mortality_SS_C.csv', index=False)\n",
    "    np.save('Data/Pneumonia_Data_48h/24h-48h/For Clustering/ADASYN_Cluster_2_class_24h-48h_Mortality_SS_C.npy', cluster_classes_oversample[1])\n",
    "\n",
    "if len(cluster_classes_oversample[2]) > 1:\n",
    "    cluster_data_oversample[2].to_csv('Data/Pneumonia_Data_48h/24h-48h/For Clustering/ADASYN_Cluster_3_24h-48h_Mortality_SS_C.csv', index=False)\n",
    "    np.save('Data/Pneumonia_Data_48h/24h-48h/For Clustering/ADASYN_Cluster_3_class_24h-48h_Mortality_SS_C.npy', cluster_classes_oversample[2])\n",
    "\n",
    "if len(cluster_classes_oversample[3]) > 1:\n",
    "    cluster_data_oversample[3].to_csv('Data/Pneumonia_Data_48h/24h-48h/For Clustering/ADASYN_Cluster_4_24h-48h_Mortality_SS_C.csv', index=False)\n",
    "    np.save('Data/Pneumonia_Data_48h/24h-48h/For Clustering/ADASYN_Cluster_4_class_24h-48h_Mortality_SS_C.npy', cluster_classes_oversample[3])\n",
    "\n",
    "if len(cluster_classes_oversample[4]) > 1:\n",
    "    cluster_data_oversample[4].to_csv('Data/Pneumonia_Data_48h/24h-48h/For Clustering/ADASYN_Cluster_5_24h-48h_Mortality_SS_C.csv', index=False)\n",
    "    np.save('Data/Pneumonia_Data_48h/24h-48h/For Clustering/ADASYN_Cluster_5_class_24h-48h_Mortality_SS_C.npy', cluster_classes_oversample[4])\n",
    "\n",
    "# ... can add more if needed"
   ]
  },
  {
   "attachments": {},
   "cell_type": "markdown",
   "metadata": {},
   "source": [
    "# Dato for proof of concept (More seperable clusters)"
   ]
  },
  {
   "attachments": {},
   "cell_type": "markdown",
   "metadata": {},
   "source": [
    "Cluster 1 and 2 will be the same as before, because they have less than 75 observations. Also for test, they will be the same observations, as they have less than 50 closest test observations"
   ]
  },
  {
   "cell_type": "markdown",
   "metadata": {},
   "source": [
    "Here, we will also try to mantain a similar ratio of 0s and 1s from the original clusters"
   ]
  },
  {
   "cell_type": "code",
   "execution_count": null,
   "metadata": {},
   "outputs": [
    {
     "name": "stdout",
     "output_type": "stream",
     "text": [
      "Counter({0.0: 45, 1.0: 30})\n"
     ]
    }
   ],
   "source": [
    "# For cluster 3 without oversample\n",
    "\n",
    "centroid = Data_cluster_3.mean().tolist()\n",
    "\n",
    "# calculate distance between test and centroid\n",
    "\n",
    "distances_all = []\n",
    "\n",
    "for index, row in Data_cluster_3.iterrows():\n",
    "\n",
    "    row = row.tolist()\n",
    "\n",
    "\n",
    "    eu_dis = np.linalg.norm(np.array(row)-np.array(centroid))\n",
    "\n",
    "    distances_all.append(eu_dis)\n",
    "\n",
    "distances_all = np.array(distances_all)\n",
    "\n",
    "# the first k elements will be the k-smallest elements in idx\n",
    "idx = np.argpartition(distances_all, 75)\n",
    "\n",
    "idx = idx[:75]\n",
    "\n",
    "New_cluster_for_Separation_X = Data_cluster_3.iloc[idx]\n",
    "New_cluster_for_Separation_Y = np.array(Data_class_3)[idx]\n",
    "\n",
    "print(Counter(New_cluster_for_Separation_Y))"
   ]
  },
  {
   "attachments": {},
   "cell_type": "markdown",
   "metadata": {},
   "source": [
    "This one as a somewhat good proportion of 0 and 1"
   ]
  },
  {
   "cell_type": "code",
   "execution_count": null,
   "metadata": {},
   "outputs": [],
   "source": [
    "New_3_X_Data = New_cluster_for_Separation_X.copy()\n",
    "New_3_Y_Data = New_cluster_for_Separation_Y.copy()\n",
    "\n",
    "New_cluster_for_Separation_X.to_csv('Data/Pneumonia_Data_48h/24h-48h/For Clustering/ONE_CLUSTER_DATA_3.csv', index=False)\n",
    "np.save('Data/Pneumonia_Data_48h/24h-48h/For Clustering/ONE_CLUSTER_CLASS_3.npy', New_cluster_for_Separation_Y)"
   ]
  },
  {
   "attachments": {},
   "cell_type": "markdown",
   "metadata": {},
   "source": [
    "Original cluster 4 proportion was 10%, I need at least 7 1s"
   ]
  },
  {
   "cell_type": "code",
   "execution_count": null,
   "metadata": {},
   "outputs": [
    {
     "name": "stdout",
     "output_type": "stream",
     "text": [
      "Counter({0.0: 65, 1.0: 4})\n",
      "Counter({0.0: 65, 1.0: 10})\n"
     ]
    }
   ],
   "source": [
    "# For cluster 4 without oversample\n",
    "\n",
    "centroid = Data_cluster_4.mean().tolist()\n",
    "\n",
    "# calculate distance between test and centroid\n",
    "\n",
    "distances_all = []\n",
    "\n",
    "for index, row in Data_cluster_4.iterrows():\n",
    "\n",
    "    row = row.tolist()\n",
    "\n",
    "\n",
    "    eu_dis = np.linalg.norm(np.array(row)-np.array(centroid))\n",
    "\n",
    "    distances_all.append(eu_dis)\n",
    "\n",
    "distances_all = np.array(distances_all)\n",
    "\n",
    "# the first k elements will be the k-smallest elements in idx\n",
    "idx = np.argpartition(distances_all, 69)\n",
    "\n",
    "idx = idx[:69]\n",
    "\n",
    "New_cluster_for_Separation_X = Data_cluster_4.iloc[idx]\n",
    "New_cluster_for_Separation_Y = np.array(Data_class_4)[idx]\n",
    "\n",
    "print(Counter(New_cluster_for_Separation_Y))\n",
    "\n",
    "\n",
    "\n",
    "#Now to get more 1s\n",
    "Data_Y_index_just_mortality = [i for i in range(len(Data_class_4)) if Data_class_4[i] == 1]\n",
    "Data_X_just_mortality = Data_cluster_4.iloc[Data_Y_index_just_mortality]\n",
    "\n",
    "distances_1_with_idx = []\n",
    "distances_1 = []\n",
    "\n",
    "for index, row in Data_X_just_mortality.iterrows():\n",
    "\n",
    "    row = row.tolist()\n",
    "\n",
    "    eu_dis = np.linalg.norm(np.array(row)-np.array(centroid))\n",
    "\n",
    "    distances_1_with_idx.append((eu_dis,index))\n",
    "    distances_1.append((eu_dis))\n",
    "\n",
    "distances_1 = np.array(distances_1)\n",
    "distances_1_with_idx = np.array(distances_1_with_idx)\n",
    "\n",
    "# the first k elements will be the k-smallest elements in idx\n",
    "idx_1 = np.argpartition(distances_1, 10)\n",
    "\n",
    "idx_1 = idx_1[:10]\n",
    "\n",
    "distances_1_with_idx = distances_1_with_idx[idx_1]\n",
    "\n",
    "# Now add the rows with one that werent before in the data\n",
    "for dis, index in distances_1_with_idx:\n",
    "    index = int(index)\n",
    "    if index not in idx:\n",
    "        new_row = Data_X_just_mortality.loc[index]\n",
    "\n",
    "        New_cluster_for_Separation_X =New_cluster_for_Separation_X.append(new_row)\n",
    "        New_cluster_for_Separation_Y = np.append(New_cluster_for_Separation_Y, 1.0)\n",
    "\n",
    "print(Counter(New_cluster_for_Separation_Y))\n"
   ]
  },
  {
   "cell_type": "code",
   "execution_count": null,
   "metadata": {},
   "outputs": [],
   "source": [
    "New_4_X_Data = New_cluster_for_Separation_X.copy()\n",
    "New_4_Y_Data = New_cluster_for_Separation_Y.copy()\n",
    "\n",
    "New_cluster_for_Separation_X.to_csv('Data/Pneumonia_Data_48h/24h-48h/For Clustering/ONE_CLUSTER_DATA_4.csv', index=False)\n",
    "np.save('Data/Pneumonia_Data_48h/24h-48h/For Clustering/ONE_CLUSTER_CLASS_4.npy', New_cluster_for_Separation_Y)"
   ]
  },
  {
   "attachments": {},
   "cell_type": "markdown",
   "metadata": {},
   "source": [
    "Original cluster 5 proportion was 14%, I need at least 11 1s"
   ]
  },
  {
   "cell_type": "code",
   "execution_count": null,
   "metadata": {},
   "outputs": [
    {
     "name": "stdout",
     "output_type": "stream",
     "text": [
      "Counter({0.0: 63, 1.0: 5})\n",
      "Counter({0.0: 63, 1.0: 12})\n"
     ]
    }
   ],
   "source": [
    "# For cluster 4 without oversample\n",
    "\n",
    "centroid = Data_cluster_5.mean().tolist()\n",
    "\n",
    "# calculate distance between test and centroid\n",
    "\n",
    "distances_all = []\n",
    "\n",
    "for index, row in Data_cluster_5.iterrows():\n",
    "\n",
    "    row = row.tolist()\n",
    "\n",
    "\n",
    "    eu_dis = np.linalg.norm(np.array(row)-np.array(centroid))\n",
    "\n",
    "    distances_all.append(eu_dis)\n",
    "\n",
    "distances_all = np.array(distances_all)\n",
    "\n",
    "# the first k elements will be the k-smallest elements in idx\n",
    "idx = np.argpartition(distances_all, 68)\n",
    "\n",
    "idx = idx[:68]\n",
    "\n",
    "New_cluster_for_Separation_X = Data_cluster_5.iloc[idx]\n",
    "New_cluster_for_Separation_Y = np.array(Data_class_5)[idx]\n",
    "\n",
    "print(Counter(New_cluster_for_Separation_Y))\n",
    "\n",
    "\n",
    "\n",
    "#Now to get more 1s\n",
    "Data_Y_index_just_mortality = [i for i in range(len(Data_class_5)) if Data_class_5[i] == 1]\n",
    "Data_X_just_mortality = Data_cluster_5.iloc[Data_Y_index_just_mortality]\n",
    "\n",
    "distances_1_with_idx = []\n",
    "distances_1 = []\n",
    "\n",
    "for index, row in Data_X_just_mortality.iterrows():\n",
    "\n",
    "    row = row.tolist()\n",
    "\n",
    "    eu_dis = np.linalg.norm(np.array(row)-np.array(centroid))\n",
    "\n",
    "    distances_1_with_idx.append((eu_dis,index))\n",
    "    distances_1.append((eu_dis))\n",
    "\n",
    "distances_1 = np.array(distances_1)\n",
    "distances_1_with_idx = np.array(distances_1_with_idx)\n",
    "\n",
    "# the first k elements will be the k-smallest elements in idx\n",
    "idx_1 = np.argpartition(distances_1, 12)\n",
    "\n",
    "idx_1 = idx_1[:12]\n",
    "\n",
    "distances_1_with_idx = distances_1_with_idx[idx_1]\n",
    "\n",
    "# Now add the rows with one that werent before in the data\n",
    "for dis, index in distances_1_with_idx:\n",
    "    index = int(index)\n",
    "    if index not in idx:\n",
    "        new_row = Data_X_just_mortality.loc[index]\n",
    "\n",
    "        New_cluster_for_Separation_X =New_cluster_for_Separation_X.append(new_row)\n",
    "        New_cluster_for_Separation_Y = np.append(New_cluster_for_Separation_Y, 1.0)\n",
    "\n",
    "print(Counter(New_cluster_for_Separation_Y))\n"
   ]
  },
  {
   "cell_type": "code",
   "execution_count": null,
   "metadata": {},
   "outputs": [],
   "source": [
    "New_5_X_Data = New_cluster_for_Separation_X.copy()\n",
    "New_5_Y_Data = New_cluster_for_Separation_Y.copy()\n",
    "\n",
    "New_cluster_for_Separation_X.to_csv('Data/Pneumonia_Data_48h/24h-48h/For Clustering/ONE_CLUSTER_DATA_5.csv', index=False)\n",
    "np.save('Data/Pneumonia_Data_48h/24h-48h/For Clustering/ONE_CLUSTER_CLASS_5.npy', New_cluster_for_Separation_Y)"
   ]
  },
  {
   "cell_type": "code",
   "execution_count": null,
   "metadata": {},
   "outputs": [
    {
     "name": "stdout",
     "output_type": "stream",
     "text": [
      "69\n",
      "45\n",
      "75\n",
      "75\n",
      "75\n"
     ]
    }
   ],
   "source": [
    "# Size of each new cluster\n",
    "\n",
    "print(len(Data_cluster_1))\n",
    "print(len(Data_cluster_2))\n",
    "print(len(New_3_X_Data))\n",
    "print(len(New_4_X_Data))\n",
    "print(len(New_5_X_Data))\n",
    "\n",
    "Combined = pd.concat([Data_cluster_1, Data_cluster_2, New_3_X_Data, New_4_X_Data, New_5_X_Data])"
   ]
  },
  {
   "cell_type": "code",
   "execution_count": null,
   "metadata": {},
   "outputs": [
    {
     "name": "stdout",
     "output_type": "stream",
     "text": [
      "339\n"
     ]
    }
   ],
   "source": [
    "labels = [1 for n in range(0,len(Data_cluster_1))] + [2 for n in range(0,len(Data_cluster_2))] + [3 for n in range(0,len(New_3_X_Data))] + [4 for n in range(0,len(New_4_X_Data))] + [5 for n in range(0,len(New_5_X_Data))]\n",
    "print(len(labels))"
   ]
  },
  {
   "cell_type": "code",
   "execution_count": null,
   "metadata": {},
   "outputs": [
    {
     "data": {
      "text/plain": [
       "0.20465711801187217"
      ]
     },
     "execution_count": 34,
     "metadata": {},
     "output_type": "execute_result"
    }
   ],
   "source": [
    "# silhouette score of the new data\n",
    "\n",
    "silhouette_score(Combined, labels)"
   ]
  }
 ],
 "metadata": {
  "kernelspec": {
   "display_name": "Python 3",
   "language": "python",
   "name": "python3"
  },
  "language_info": {
   "codemirror_mode": {
    "name": "ipython",
    "version": 3
   },
   "file_extension": ".py",
   "mimetype": "text/x-python",
   "name": "python",
   "nbconvert_exporter": "python",
   "pygments_lexer": "ipython3",
   "version": "3.7.9"
  },
  "orig_nbformat": 4
 },
 "nbformat": 4,
 "nbformat_minor": 2
}
